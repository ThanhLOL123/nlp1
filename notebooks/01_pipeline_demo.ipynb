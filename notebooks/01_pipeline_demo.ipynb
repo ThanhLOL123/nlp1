{
 "cells": [
  {
   "cell_type": "code",
   "execution_count": 1,
   "metadata": {},
   "outputs": [
    {
     "name": "stderr",
     "output_type": "stream",
     "text": [
      "INFO:src.tokenizer:Initialized Underthesea tokenizer\n",
      "INFO:src.tokenizer:Initialized PyVi tokenizer\n",
      "INFO:src.pos_tagger:Initialized Underthesea POS tagger\n",
      "INFO:src.pos_tagger:Initialized PyVi POS tagger\n"
     ]
    },
    {
     "name": "stdout",
     "output_type": "stream",
     "text": [
      "Pipeline initialized successfully!\n"
     ]
    }
   ],
   "source": [
    "%load_ext autoreload\n",
    "%autoreload 2\n",
    "\n",
    "import sys\n",
    "sys.path.append('..')\n",
    "\n",
    "from src.pipeline import VietnameseNLPPipeline\n",
    "from src.data_loader import VietnameseDatasetLoader\n",
    "import pandas as pd\n",
    "import matplotlib.pyplot as plt\n",
    "import seaborn as sns\n",
    "\n",
    "# Initialize pipeline\n",
    "pipeline = VietnameseNLPPipeline('../configs/config.yaml')\n",
    "data_loader = VietnameseDatasetLoader('../data')\n",
    "\n",
    "print(\"Pipeline initialized successfully!\")"
   ]
  },
  {
   "cell_type": "code",
   "execution_count": 2,
   "metadata": {},
   "outputs": [
    {
     "name": "stderr",
     "output_type": "stream",
     "text": [
      "INFO:src.pipeline:Normalized: Xin chào Việt Nam\n"
     ]
    },
    {
     "name": "stdout",
     "output_type": "stream",
     "text": [
      "\n",
      "Input: Xin chào Việt Nam\n"
     ]
    },
    {
     "name": "stderr",
     "output_type": "stream",
     "text": [
      "INFO:src.pipeline:Tokens: ['Xin', 'chào', 'Việt Nam']\n",
      "INFO:src.pipeline:POS tags: [('Xin', 'V'), ('chào', 'V'), ('Việt Nam', 'Np')]\n",
      "INFO:src.pipeline:Normalized: Tôi đang học xử lý ngôn ngữ tự nhiên\n",
      "INFO:src.pipeline:Tokens: ['Tôi', 'đang', 'học', 'xử lý', 'ngôn ngữ', 'tự nhiên']\n",
      "INFO:src.pipeline:POS tags: [('Tôi', 'P'), ('đang', 'R'), ('học', 'V'), ('xử lý', 'V'), ('ngôn ngữ', 'N'), ('tự nhiên', 'A')]\n",
      "INFO:src.pipeline:Normalized: Trường Đại học Bách khoa Hà Nội\n",
      "INFO:src.pipeline:Tokens: ['Trường', 'Đại học', 'Bách khoa', 'Hà Nội']\n",
      "INFO:src.pipeline:POS tags: [('Trường', 'N'), ('Đại học', 'N'), ('Bách khoa', 'N'), ('Hà Nội', 'Np')]\n"
     ]
    },
    {
     "name": "stdout",
     "output_type": "stream",
     "text": [
      "--------------------------------------------------\n",
      "\n",
      "Input: Tôi đang học xử lý ngôn ngữ tự nhiên\n",
      "--------------------------------------------------\n",
      "\n",
      "Input: Trường Đại học Bách khoa Hà Nội\n",
      "--------------------------------------------------\n"
     ]
    }
   ],
   "source": [
    "# Test simple sentences\n",
    "test_sentences = [\n",
    "    \"Xin chào Việt Nam\",\n",
    "    \"Tôi đang học xử lý ngôn ngữ tự nhiên\",\n",
    "    \"Trường Đại học Bách khoa Hà Nội\"\n",
    "]\n",
    "\n",
    "for sentence in test_sentences:\n",
    "    print(f\"\\nInput: {sentence}\")\n",
    "    result = pipeline.process(sentence, verbose=True)\n",
    "    print(\"-\" * 50)"
   ]
  },
  {
   "cell_type": "code",
   "execution_count": 3,
   "metadata": {},
   "outputs": [
    {
     "name": "stderr",
     "output_type": "stream",
     "text": [
      "INFO:src.tokenizer:Initialized Underthesea tokenizer\n",
      "INFO:src.tokenizer:Initialized PyVi tokenizer\n",
      "INFO:src.tokenizer:Initialized Underthesea tokenizer\n",
      "INFO:src.tokenizer:Initialized PyVi tokenizer\n",
      "INFO:src.tokenizer:Initialized Underthesea tokenizer\n",
      "INFO:src.tokenizer:Initialized PyVi tokenizer\n"
     ]
    },
    {
     "name": "stdout",
     "output_type": "stream",
     "text": [
      "Original text: Chàng trai 9X Quảng Trị khởi nghiệp từ nấm sò\n",
      "\n",
      "underthesea : Chàng | trai | 9X | Quảng Trị | khởi nghiệp | từ | nấm | sò\n",
      "pyvi        : Chàng | trai | 9X | Quảng_Trị | khởi_nghiệp | từ | nấm_sò\n",
      "hybrid      : Chàng | trai | 9X | Quảng Trị | khởi nghiệp | từ | nấm | sò\n"
     ]
    }
   ],
   "source": [
    "from src.tokenizer import VietnameseTokenizer\n",
    "\n",
    "text = \"Chàng trai 9X Quảng Trị khởi nghiệp từ nấm sò\"\n",
    "\n",
    "# Compare different tokenizers\n",
    "tokenizers = {\n",
    "    'underthesea': VietnameseTokenizer('underthesea'),\n",
    "    'pyvi': VietnameseTokenizer('pyvi'),\n",
    "    'hybrid': VietnameseTokenizer('hybrid')\n",
    "}\n",
    "\n",
    "print(f\"Original text: {text}\\n\")\n",
    "for name, tokenizer in tokenizers.items():\n",
    "    tokens = tokenizer.tokenize(text)\n",
    "    print(f\"{name:12}: {' | '.join(tokens)}\")"
   ]
  },
  {
   "cell_type": "code",
   "execution_count": 4,
   "metadata": {},
   "outputs": [
    {
     "name": "stderr",
     "output_type": "stream",
     "text": [
      "INFO:src.data_loader:Loading Vietnamese Students' Feedback dataset...\n",
      "INFO:src.data_loader:train: 1 samples\n",
      "INFO:src.data_loader:validation: 1583 samples\n",
      "INFO:src.data_loader:test: 3166 samples\n"
     ]
    },
    {
     "data": {
      "image/png": "[encoded data removed]",
      "text/plain": [
       "<Figure size 1200x600 with 1 Axes>"
      ]
     },
     "metadata": {},
     "output_type": "display_data"
    }
   ],
   "source": [
    "# Load student feedback dataset\n",
    "student_feedback = data_loader.load_student_feedback()\n",
    "test_df = student_feedback['test'].head(10)\n",
    "\n",
    "# Process and analyze POS tags\n",
    "pos_distribution = {}\n",
    "\n",
    "for idx, row in test_df.iterrows():\n",
    "    result = pipeline.process(row['sentence'])\n",
    "    for token, tag in result.pos_tags:\n",
    "        if tag not in pos_distribution:\n",
    "            pos_distribution[tag] = 0\n",
    "        pos_distribution[tag] += 1\n",
    "\n",
    "# Visualize POS distribution\n",
    "plt.figure(figsize=(12, 6))\n",
    "tags = list(pos_distribution.keys())\n",
    "counts = list(pos_distribution.values())\n",
    "\n",
    "plt.bar(tags, counts)\n",
    "plt.xlabel('POS Tags')\n",
    "plt.ylabel('Frequency')\n",
    "plt.title('POS Tag Distribution in Student Feedback Dataset')\n",
    "plt.xticks(rotation=45)\n",
    "plt.tight_layout()\n",
    "plt.show()"
   ]
  },
  {
   "cell_type": "code",
   "execution_count": 5,
   "metadata": {},
   "outputs": [
    {
     "name": "stdout",
     "output_type": "stream",
     "text": [
      "\n",
      "Original: Việt Nam tươi đẹp\n",
      "No tones: Viet Nam tuoi dep\n",
      "Restored: Việt nam tuổi dếp\n",
      "Tone distribution: {'nặng': 2}\n",
      "\n",
      "Original: Hôm nay trời mưa rất to\n",
      "No tones: Hom nay troi mua rat to\n",
      "Restored: Hôm nay trời mua rất tô\n",
      "Tone distribution: {'huyền': 1, 'sắc': 1}\n",
      "\n",
      "Original: Cảm ơn bạn đã giúp đỡ\n",
      "No tones: Cam on ban da giup do\n",
      "Restored: Cám ổn bạn đã giúp dô\n",
      "Tone distribution: {'hỏi': 1, 'nặng': 1, 'ngã': 2, 'sắc': 1}\n"
     ]
    }
   ],
   "source": [
    "from src.tone_processor import ToneProcessor\n",
    "\n",
    "tone_processor = ToneProcessor()\n",
    "\n",
    "# Test tone removal and addition\n",
    "test_cases = [\n",
    "    \"Việt Nam tươi đẹp\",\n",
    "    \"Hôm nay trời mưa rất to\",\n",
    "    \"Cảm ơn bạn đã giúp đỡ\"\n",
    "]\n",
    "\n",
    "for text in test_cases:\n",
    "    print(f\"\\nOriginal: {text}\")\n",
    "    \n",
    "    # Remove tones\n",
    "    no_tones = tone_processor.remove_tones(text)\n",
    "    print(f\"No tones: {no_tones}\")\n",
    "    \n",
    "    # Add tones back\n",
    "    restored = tone_processor.add_tones(no_tones)\n",
    "    print(f\"Restored: {restored}\")\n",
    "    \n",
    "    # Analyze tones\n",
    "    analysis = tone_processor.analyze_text(text)\n",
    "    print(f\"Tone distribution: {analysis['tone_distribution']}\")"
   ]
  },
  {
   "cell_type": "code",
   "execution_count": 6,
   "metadata": {},
   "outputs": [
    {
     "name": "stdout",
     "output_type": "stream",
     "text": [
      "Common Tokenization Challenges:\n",
      "\n",
      "Input: Ông Nguyễn Văn A\n",
      "Expected: ['Ông', 'Nguyễn_Văn_A']\n",
      "Got: ['Ông', 'Nguyễn Văn A']\n",
      "Match: False\n",
      "----------------------------------------\n",
      "Input: 21/12/2024\n",
      "Expected: ['21/12/2024']\n",
      "Got: ['21/12/2024']\n",
      "Match: True\n",
      "----------------------------------------\n",
      "Input: email@example.com\n",
      "Expected: ['email@example.com']\n",
      "Got: ['email@example.com']\n",
      "Match: True\n",
      "----------------------------------------\n",
      "Input: Tp.HCM\n",
      "Expected: ['Tp.', 'HCM']\n",
      "Got: ['Tp.', 'HCM']\n",
      "Match: True\n",
      "----------------------------------------\n"
     ]
    }
   ],
   "source": [
    "# Common errors in tokenization\n",
    "error_examples = [\n",
    "    (\"Ông Nguyễn Văn A\", [\"Ông\", \"Nguyễn_Văn_A\"]),  # Name handling\n",
    "    (\"21/12/2024\", [\"21/12/2024\"]),  # Date handling\n",
    "    (\"email@example.com\", [\"email@example.com\"]),  # Email handling\n",
    "    (\"Tp.HCM\", [\"Tp.\", \"HCM\"]),  # Abbreviation\n",
    "]\n",
    "\n",
    "print(\"Common Tokenization Challenges:\\n\")\n",
    "for text, expected in error_examples:\n",
    "    result = pipeline.process(text)\n",
    "    print(f\"Input: {text}\")\n",
    "    print(f\"Expected: {expected}\")\n",
    "    print(f\"Got: {result.tokens}\")\n",
    "    print(f\"Match: {result.tokens == expected}\")\n",
    "    print(\"-\" * 40)"
   ]
  },
  {
   "cell_type": "code",
   "execution_count": 7,
   "metadata": {},
   "outputs": [
    {
     "name": "stdout",
     "output_type": "stream",
     "text": [
      "Processed 10 sentences\n",
      "Total time: 0.06 seconds\n",
      "Average time per sentence: 5.74 ms\n",
      "Sentences per second: 174.24\n"
     ]
    },
    {
     "data": {
      "image/png": "[encoded data removed]",
      "text/plain": [
       "<Figure size 1000x600 with 1 Axes>"
      ]
     },
     "metadata": {},
     "output_type": "display_data"
    }
   ],
   "source": [
    "import time\n",
    "\n",
    "# Measure processing speed\n",
    "texts = test_df['sentence'].tolist()[:100]\n",
    "\n",
    "start_time = time.time()\n",
    "results = pipeline.process_batch(texts)\n",
    "end_time = time.time()\n",
    "\n",
    "total_time = end_time - start_time\n",
    "avg_time = total_time / len(texts)\n",
    "\n",
    "print(f\"Processed {len(texts)} sentences\")\n",
    "print(f\"Total time: {total_time:.2f} seconds\")\n",
    "print(f\"Average time per sentence: {avg_time*1000:.2f} ms\")\n",
    "print(f\"Sentences per second: {len(texts)/total_time:.2f}\")\n",
    "\n",
    "# Breakdown by component\n",
    "time_breakdown = {\n",
    "    'preprocessing': [],\n",
    "    'tokenization': [],\n",
    "    'pos_tagging': [],\n",
    "    'tone_processing': []\n",
    "}\n",
    "\n",
    "for result in results:\n",
    "    for component, time_val in result.processing_time.items():\n",
    "        time_breakdown[component].append(time_val)\n",
    "\n",
    "# Plot time breakdown\n",
    "import numpy as np\n",
    "\n",
    "avg_times = {k: np.mean(v)*1000 for k, v in time_breakdown.items()}\n",
    "\n",
    "plt.figure(figsize=(10, 6))\n",
    "components = list(avg_times.keys())\n",
    "times = list(avg_times.values())\n",
    "\n",
    "plt.bar(components, times)\n",
    "plt.xlabel('Pipeline Component')\n",
    "plt.ylabel('Average Time (ms)')\n",
    "plt.title('Processing Time Breakdown')\n",
    "plt.xticks(rotation=45)\n",
    "\n",
    "# Add percentage labels\n",
    "total = sum(times)\n",
    "for i, (comp, t) in enumerate(zip(components, times)):\n",
    "    plt.text(i, t, f'{t/total*100:.1f}%', ha='center', va='bottom')\n",
    "\n",
    "plt.tight_layout()\n",
    "plt.show()"
   ]
  }
 ],
 "metadata": {
  "kernelspec": {
   "display_name": "venv_vnlp",
   "language": "python",
   "name": "python3"
  },
  "language_info": {
   "codemirror_mode": {
    "name": "ipython",
    "version": 3
   },
   "file_extension": ".py",
   "mimetype": "text/x-python",
   "name": "python",
   "nbconvert_exporter": "python",
   "pygments_lexer": "ipython3",
   "version": "3.11.0"
  }
 },
 "nbformat": 4,
 "nbformat_minor": 4
}
